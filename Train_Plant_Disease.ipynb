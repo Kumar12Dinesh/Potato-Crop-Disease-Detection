{
 "cells": [
  {
   "cell_type": "code",
   "execution_count": 1,
   "metadata": {},
   "outputs": [],
   "source": [
    "import tensorflow as tf\n",
    "import matplotlib.pyplot as plt\n",
    "import pandas as pd\n",
    "import seaborn as sns\n"
   ]
  },
  {
   "cell_type": "code",
   "execution_count": 2,
   "metadata": {},
   "outputs": [
    {
     "name": "stdout",
     "output_type": "stream",
     "text": [
      "Found 900 files belonging to 3 classes.\n"
     ]
    }
   ],
   "source": [
    "#--> Data Preprocessing\n",
    "\n",
    "#--> Traning Image Preprocessing\n",
    "# Train=\"D:\\7-sem-project\\potato_crop\\Potato\\Train\"\n",
    "Train = r\"D:\\7-sem-project\\potato_crop\\Potato\\Train\"\n",
    "training_set= tf.keras.utils.image_dataset_from_directory(\n",
    "    Train,\n",
    "    labels=\"inferred\", #--> Taking Same Name as Directory name\n",
    "    label_mode=\"categorical\",\n",
    "    class_names=None,\n",
    "    color_mode=\"rgb\",\n",
    "    batch_size=32,\n",
    "    image_size=(256, 256),\n",
    "    shuffle=True, #--> Reducing The BIas Of The Model\n",
    "    seed=123,\n",
    "    validation_split=None,\n",
    "    subset=None,\n",
    "    interpolation=\"bilinear\",\n",
    "    follow_links=False,\n",
    "    crop_to_aspect_ratio=False,\n",
    "    pad_to_aspect_ratio=False,\n",
    "    data_format=None,\n",
    "    verbose=True,\n",
    ")"
   ]
  },
  {
   "cell_type": "code",
   "execution_count": 3,
   "metadata": {},
   "outputs": [
    {
     "data": {
      "text/plain": [
       "['Early_blight', 'Late_blight1', 'lat_blight']"
      ]
     },
     "execution_count": 3,
     "metadata": {},
     "output_type": "execute_result"
    }
   ],
   "source": [
    "class_name= training_set.class_names\n",
    "class_name"
   ]
  },
  {
   "cell_type": "code",
   "execution_count": 4,
   "metadata": {},
   "outputs": [
    {
     "name": "stdout",
     "output_type": "stream",
     "text": [
      "Found 300 files belonging to 3 classes.\n"
     ]
    }
   ],
   "source": [
    "# Validation Image Preprocessing\n",
    "# Valid='D:\\7-sem-project\\potato_crop\\Potato\\Valid'\n",
    "Test = r\"D:\\7-sem-project\\potato_crop\\Potato\\Test\"\n",
    "validation_set= tf.keras.utils.image_dataset_from_directory(\n",
    "    Test,\n",
    "    labels=\"inferred\", #--> Taking Same Name as Directory name\n",
    "    label_mode=\"categorical\",\n",
    "    class_names=None,\n",
    "    color_mode=\"rgb\",\n",
    "    batch_size=32,\n",
    "    image_size=(256, 256),\n",
    "    shuffle=False, #--> Reducing The BIas Of The Model\n",
    "    seed=123,\n",
    "    validation_split=None,\n",
    "    subset=None,\n",
    "    interpolation=\"bilinear\",\n",
    "    follow_links=False,\n",
    "    crop_to_aspect_ratio=False,\n",
    "    pad_to_aspect_ratio=False,\n",
    "    verbose=True,\n",
    ")"
   ]
  },
  {
   "cell_type": "code",
   "execution_count": 5,
   "metadata": {},
   "outputs": [
    {
     "data": {
      "text/plain": [
       "['Early_blight', 'healthy', 'late_blight']"
      ]
     },
     "execution_count": 5,
     "metadata": {},
     "output_type": "execute_result"
    }
   ],
   "source": [
    "class_name= validation_set.class_names\n",
    "class_name"
   ]
  },
  {
   "cell_type": "code",
   "execution_count": 6,
   "metadata": {},
   "outputs": [
    {
     "data": {
      "text/plain": [
       "<_PrefetchDataset element_spec=(TensorSpec(shape=(None, 256, 256, 3), dtype=tf.float32, name=None), TensorSpec(shape=(None, 3), dtype=tf.float32, name=None))>"
      ]
     },
     "execution_count": 6,
     "metadata": {},
     "output_type": "execute_result"
    }
   ],
   "source": [
    "training_set"
   ]
  },
  {
   "cell_type": "code",
   "execution_count": 7,
   "metadata": {},
   "outputs": [],
   "source": [
    "#--> Building Model\n",
    "from tensorflow.keras.layers import Dense,Conv2D,MaxPool2D,Flatten,Dropout\n",
    "from tensorflow.keras.models import Sequential\n",
    "model=Sequential()\n",
    "\n"
   ]
  },
  {
   "cell_type": "code",
   "execution_count": 8,
   "metadata": {},
   "outputs": [
    {
     "name": "stderr",
     "output_type": "stream",
     "text": [
      "c:\\Users\\navu1\\AppData\\Local\\Programs\\Python\\Python311\\Lib\\site-packages\\keras\\src\\layers\\convolutional\\base_conv.py:107: UserWarning: Do not pass an `input_shape`/`input_dim` argument to a layer. When using Sequential models, prefer using an `Input(shape)` object as the first layer in the model instead.\n",
      "  super().__init__(activity_regularizer=activity_regularizer, **kwargs)\n"
     ]
    }
   ],
   "source": [
    "# Building Convolution Layer\n",
    "model.add(Conv2D(filters=32, kernel_size=3, padding='same', activation='relu', input_shape=[256, 256, 3]))\n",
    "model.add(Conv2D(filters=32, kernel_size=3, activation='relu'))\n",
    "model.add(MaxPool2D(pool_size=2, strides=2))\n",
    "\n",
    "model.add(Conv2D(filters=64, kernel_size=3, padding='same', activation='relu'))\n",
    "model.add(Conv2D(filters=64, kernel_size=3, activation='relu'))\n",
    "model.add(MaxPool2D(pool_size=2, strides=2))\n",
    "\n",
    "model.add(Conv2D(filters=128, kernel_size=3, padding='same', activation='relu'))\n",
    "model.add(Conv2D(filters=128, kernel_size=3, activation='relu'))\n",
    "model.add(MaxPool2D(pool_size=2, strides=2))\n",
    "\n",
    "model.add(Conv2D(filters=256, kernel_size=3, padding='same', activation='relu'))\n",
    "model.add(Conv2D(filters=256, kernel_size=3, activation='relu'))\n",
    "model.add(MaxPool2D(pool_size=2, strides=2))\n",
    "\n",
    "model.add(Conv2D(filters=512, kernel_size=3, padding='same', activation='relu'))\n",
    "model.add(Conv2D(filters=512, kernel_size=3, activation='relu'))\n",
    "model.add(MaxPool2D(pool_size=2, strides=2))\n",
    "\n",
    "model.add(Dropout(0.25))\n",
    "model.add(Flatten())\n",
    "\n",
    "# Adding Dense Layer\n",
    "model.add(Dense(units=1800, activation='relu'))\n",
    "model.add(Dropout(0.55))\n",
    "\n",
    "# Adding Output Layer\n",
    "model.add(Dense(units=3, activation='softmax'))\n"
   ]
  },
  {
   "cell_type": "code",
   "execution_count": 9,
   "metadata": {},
   "outputs": [
    {
     "data": {
      "text/html": [
       "<pre style=\"white-space:pre;overflow-x:auto;line-height:normal;font-family:Menlo,'DejaVu Sans Mono',consolas,'Courier New',monospace\"><span style=\"font-weight: bold\">Model: \"sequential\"</span>\n",
       "</pre>\n"
      ],
      "text/plain": [
       "\u001b[1mModel: \"sequential\"\u001b[0m\n"
      ]
     },
     "metadata": {},
     "output_type": "display_data"
    },
    {
     "data": {
      "text/html": [
       "<pre style=\"white-space:pre;overflow-x:auto;line-height:normal;font-family:Menlo,'DejaVu Sans Mono',consolas,'Courier New',monospace\">┏━━━━━━━━━━━━━━━━━━━━━━━━━━━━━━━━━┳━━━━━━━━━━━━━━━━━━━━━━━━┳━━━━━━━━━━━━━━━┓\n",
       "┃<span style=\"font-weight: bold\"> Layer (type)                    </span>┃<span style=\"font-weight: bold\"> Output Shape           </span>┃<span style=\"font-weight: bold\">       Param # </span>┃\n",
       "┡━━━━━━━━━━━━━━━━━━━━━━━━━━━━━━━━━╇━━━━━━━━━━━━━━━━━━━━━━━━╇━━━━━━━━━━━━━━━┩\n",
       "│ conv2d (<span style=\"color: #0087ff; text-decoration-color: #0087ff\">Conv2D</span>)                 │ (<span style=\"color: #00d7ff; text-decoration-color: #00d7ff\">None</span>, <span style=\"color: #00af00; text-decoration-color: #00af00\">256</span>, <span style=\"color: #00af00; text-decoration-color: #00af00\">256</span>, <span style=\"color: #00af00; text-decoration-color: #00af00\">32</span>)   │           <span style=\"color: #00af00; text-decoration-color: #00af00\">896</span> │\n",
       "├─────────────────────────────────┼────────────────────────┼───────────────┤\n",
       "│ conv2d_1 (<span style=\"color: #0087ff; text-decoration-color: #0087ff\">Conv2D</span>)               │ (<span style=\"color: #00d7ff; text-decoration-color: #00d7ff\">None</span>, <span style=\"color: #00af00; text-decoration-color: #00af00\">254</span>, <span style=\"color: #00af00; text-decoration-color: #00af00\">254</span>, <span style=\"color: #00af00; text-decoration-color: #00af00\">32</span>)   │         <span style=\"color: #00af00; text-decoration-color: #00af00\">9,248</span> │\n",
       "├─────────────────────────────────┼────────────────────────┼───────────────┤\n",
       "│ max_pooling2d (<span style=\"color: #0087ff; text-decoration-color: #0087ff\">MaxPooling2D</span>)    │ (<span style=\"color: #00d7ff; text-decoration-color: #00d7ff\">None</span>, <span style=\"color: #00af00; text-decoration-color: #00af00\">127</span>, <span style=\"color: #00af00; text-decoration-color: #00af00\">127</span>, <span style=\"color: #00af00; text-decoration-color: #00af00\">32</span>)   │             <span style=\"color: #00af00; text-decoration-color: #00af00\">0</span> │\n",
       "├─────────────────────────────────┼────────────────────────┼───────────────┤\n",
       "│ conv2d_2 (<span style=\"color: #0087ff; text-decoration-color: #0087ff\">Conv2D</span>)               │ (<span style=\"color: #00d7ff; text-decoration-color: #00d7ff\">None</span>, <span style=\"color: #00af00; text-decoration-color: #00af00\">127</span>, <span style=\"color: #00af00; text-decoration-color: #00af00\">127</span>, <span style=\"color: #00af00; text-decoration-color: #00af00\">64</span>)   │        <span style=\"color: #00af00; text-decoration-color: #00af00\">18,496</span> │\n",
       "├─────────────────────────────────┼────────────────────────┼───────────────┤\n",
       "│ conv2d_3 (<span style=\"color: #0087ff; text-decoration-color: #0087ff\">Conv2D</span>)               │ (<span style=\"color: #00d7ff; text-decoration-color: #00d7ff\">None</span>, <span style=\"color: #00af00; text-decoration-color: #00af00\">125</span>, <span style=\"color: #00af00; text-decoration-color: #00af00\">125</span>, <span style=\"color: #00af00; text-decoration-color: #00af00\">64</span>)   │        <span style=\"color: #00af00; text-decoration-color: #00af00\">36,928</span> │\n",
       "├─────────────────────────────────┼────────────────────────┼───────────────┤\n",
       "│ max_pooling2d_1 (<span style=\"color: #0087ff; text-decoration-color: #0087ff\">MaxPooling2D</span>)  │ (<span style=\"color: #00d7ff; text-decoration-color: #00d7ff\">None</span>, <span style=\"color: #00af00; text-decoration-color: #00af00\">62</span>, <span style=\"color: #00af00; text-decoration-color: #00af00\">62</span>, <span style=\"color: #00af00; text-decoration-color: #00af00\">64</span>)     │             <span style=\"color: #00af00; text-decoration-color: #00af00\">0</span> │\n",
       "├─────────────────────────────────┼────────────────────────┼───────────────┤\n",
       "│ conv2d_4 (<span style=\"color: #0087ff; text-decoration-color: #0087ff\">Conv2D</span>)               │ (<span style=\"color: #00d7ff; text-decoration-color: #00d7ff\">None</span>, <span style=\"color: #00af00; text-decoration-color: #00af00\">62</span>, <span style=\"color: #00af00; text-decoration-color: #00af00\">62</span>, <span style=\"color: #00af00; text-decoration-color: #00af00\">128</span>)    │        <span style=\"color: #00af00; text-decoration-color: #00af00\">73,856</span> │\n",
       "├─────────────────────────────────┼────────────────────────┼───────────────┤\n",
       "│ conv2d_5 (<span style=\"color: #0087ff; text-decoration-color: #0087ff\">Conv2D</span>)               │ (<span style=\"color: #00d7ff; text-decoration-color: #00d7ff\">None</span>, <span style=\"color: #00af00; text-decoration-color: #00af00\">60</span>, <span style=\"color: #00af00; text-decoration-color: #00af00\">60</span>, <span style=\"color: #00af00; text-decoration-color: #00af00\">128</span>)    │       <span style=\"color: #00af00; text-decoration-color: #00af00\">147,584</span> │\n",
       "├─────────────────────────────────┼────────────────────────┼───────────────┤\n",
       "│ max_pooling2d_2 (<span style=\"color: #0087ff; text-decoration-color: #0087ff\">MaxPooling2D</span>)  │ (<span style=\"color: #00d7ff; text-decoration-color: #00d7ff\">None</span>, <span style=\"color: #00af00; text-decoration-color: #00af00\">30</span>, <span style=\"color: #00af00; text-decoration-color: #00af00\">30</span>, <span style=\"color: #00af00; text-decoration-color: #00af00\">128</span>)    │             <span style=\"color: #00af00; text-decoration-color: #00af00\">0</span> │\n",
       "├─────────────────────────────────┼────────────────────────┼───────────────┤\n",
       "│ conv2d_6 (<span style=\"color: #0087ff; text-decoration-color: #0087ff\">Conv2D</span>)               │ (<span style=\"color: #00d7ff; text-decoration-color: #00d7ff\">None</span>, <span style=\"color: #00af00; text-decoration-color: #00af00\">30</span>, <span style=\"color: #00af00; text-decoration-color: #00af00\">30</span>, <span style=\"color: #00af00; text-decoration-color: #00af00\">256</span>)    │       <span style=\"color: #00af00; text-decoration-color: #00af00\">295,168</span> │\n",
       "├─────────────────────────────────┼────────────────────────┼───────────────┤\n",
       "│ conv2d_7 (<span style=\"color: #0087ff; text-decoration-color: #0087ff\">Conv2D</span>)               │ (<span style=\"color: #00d7ff; text-decoration-color: #00d7ff\">None</span>, <span style=\"color: #00af00; text-decoration-color: #00af00\">28</span>, <span style=\"color: #00af00; text-decoration-color: #00af00\">28</span>, <span style=\"color: #00af00; text-decoration-color: #00af00\">256</span>)    │       <span style=\"color: #00af00; text-decoration-color: #00af00\">590,080</span> │\n",
       "├─────────────────────────────────┼────────────────────────┼───────────────┤\n",
       "│ max_pooling2d_3 (<span style=\"color: #0087ff; text-decoration-color: #0087ff\">MaxPooling2D</span>)  │ (<span style=\"color: #00d7ff; text-decoration-color: #00d7ff\">None</span>, <span style=\"color: #00af00; text-decoration-color: #00af00\">14</span>, <span style=\"color: #00af00; text-decoration-color: #00af00\">14</span>, <span style=\"color: #00af00; text-decoration-color: #00af00\">256</span>)    │             <span style=\"color: #00af00; text-decoration-color: #00af00\">0</span> │\n",
       "├─────────────────────────────────┼────────────────────────┼───────────────┤\n",
       "│ conv2d_8 (<span style=\"color: #0087ff; text-decoration-color: #0087ff\">Conv2D</span>)               │ (<span style=\"color: #00d7ff; text-decoration-color: #00d7ff\">None</span>, <span style=\"color: #00af00; text-decoration-color: #00af00\">14</span>, <span style=\"color: #00af00; text-decoration-color: #00af00\">14</span>, <span style=\"color: #00af00; text-decoration-color: #00af00\">512</span>)    │     <span style=\"color: #00af00; text-decoration-color: #00af00\">1,180,160</span> │\n",
       "├─────────────────────────────────┼────────────────────────┼───────────────┤\n",
       "│ conv2d_9 (<span style=\"color: #0087ff; text-decoration-color: #0087ff\">Conv2D</span>)               │ (<span style=\"color: #00d7ff; text-decoration-color: #00d7ff\">None</span>, <span style=\"color: #00af00; text-decoration-color: #00af00\">12</span>, <span style=\"color: #00af00; text-decoration-color: #00af00\">12</span>, <span style=\"color: #00af00; text-decoration-color: #00af00\">512</span>)    │     <span style=\"color: #00af00; text-decoration-color: #00af00\">2,359,808</span> │\n",
       "├─────────────────────────────────┼────────────────────────┼───────────────┤\n",
       "│ max_pooling2d_4 (<span style=\"color: #0087ff; text-decoration-color: #0087ff\">MaxPooling2D</span>)  │ (<span style=\"color: #00d7ff; text-decoration-color: #00d7ff\">None</span>, <span style=\"color: #00af00; text-decoration-color: #00af00\">6</span>, <span style=\"color: #00af00; text-decoration-color: #00af00\">6</span>, <span style=\"color: #00af00; text-decoration-color: #00af00\">512</span>)      │             <span style=\"color: #00af00; text-decoration-color: #00af00\">0</span> │\n",
       "├─────────────────────────────────┼────────────────────────┼───────────────┤\n",
       "│ dropout (<span style=\"color: #0087ff; text-decoration-color: #0087ff\">Dropout</span>)               │ (<span style=\"color: #00d7ff; text-decoration-color: #00d7ff\">None</span>, <span style=\"color: #00af00; text-decoration-color: #00af00\">6</span>, <span style=\"color: #00af00; text-decoration-color: #00af00\">6</span>, <span style=\"color: #00af00; text-decoration-color: #00af00\">512</span>)      │             <span style=\"color: #00af00; text-decoration-color: #00af00\">0</span> │\n",
       "├─────────────────────────────────┼────────────────────────┼───────────────┤\n",
       "│ flatten (<span style=\"color: #0087ff; text-decoration-color: #0087ff\">Flatten</span>)               │ (<span style=\"color: #00d7ff; text-decoration-color: #00d7ff\">None</span>, <span style=\"color: #00af00; text-decoration-color: #00af00\">18432</span>)          │             <span style=\"color: #00af00; text-decoration-color: #00af00\">0</span> │\n",
       "├─────────────────────────────────┼────────────────────────┼───────────────┤\n",
       "│ dense (<span style=\"color: #0087ff; text-decoration-color: #0087ff\">Dense</span>)                   │ (<span style=\"color: #00d7ff; text-decoration-color: #00d7ff\">None</span>, <span style=\"color: #00af00; text-decoration-color: #00af00\">1800</span>)           │    <span style=\"color: #00af00; text-decoration-color: #00af00\">33,179,400</span> │\n",
       "├─────────────────────────────────┼────────────────────────┼───────────────┤\n",
       "│ dropout_1 (<span style=\"color: #0087ff; text-decoration-color: #0087ff\">Dropout</span>)             │ (<span style=\"color: #00d7ff; text-decoration-color: #00d7ff\">None</span>, <span style=\"color: #00af00; text-decoration-color: #00af00\">1800</span>)           │             <span style=\"color: #00af00; text-decoration-color: #00af00\">0</span> │\n",
       "├─────────────────────────────────┼────────────────────────┼───────────────┤\n",
       "│ dense_1 (<span style=\"color: #0087ff; text-decoration-color: #0087ff\">Dense</span>)                 │ (<span style=\"color: #00d7ff; text-decoration-color: #00d7ff\">None</span>, <span style=\"color: #00af00; text-decoration-color: #00af00\">3</span>)              │         <span style=\"color: #00af00; text-decoration-color: #00af00\">5,403</span> │\n",
       "└─────────────────────────────────┴────────────────────────┴───────────────┘\n",
       "</pre>\n"
      ],
      "text/plain": [
       "┏━━━━━━━━━━━━━━━━━━━━━━━━━━━━━━━━━┳━━━━━━━━━━━━━━━━━━━━━━━━┳━━━━━━━━━━━━━━━┓\n",
       "┃\u001b[1m \u001b[0m\u001b[1mLayer (type)                   \u001b[0m\u001b[1m \u001b[0m┃\u001b[1m \u001b[0m\u001b[1mOutput Shape          \u001b[0m\u001b[1m \u001b[0m┃\u001b[1m \u001b[0m\u001b[1m      Param #\u001b[0m\u001b[1m \u001b[0m┃\n",
       "┡━━━━━━━━━━━━━━━━━━━━━━━━━━━━━━━━━╇━━━━━━━━━━━━━━━━━━━━━━━━╇━━━━━━━━━━━━━━━┩\n",
       "│ conv2d (\u001b[38;5;33mConv2D\u001b[0m)                 │ (\u001b[38;5;45mNone\u001b[0m, \u001b[38;5;34m256\u001b[0m, \u001b[38;5;34m256\u001b[0m, \u001b[38;5;34m32\u001b[0m)   │           \u001b[38;5;34m896\u001b[0m │\n",
       "├─────────────────────────────────┼────────────────────────┼───────────────┤\n",
       "│ conv2d_1 (\u001b[38;5;33mConv2D\u001b[0m)               │ (\u001b[38;5;45mNone\u001b[0m, \u001b[38;5;34m254\u001b[0m, \u001b[38;5;34m254\u001b[0m, \u001b[38;5;34m32\u001b[0m)   │         \u001b[38;5;34m9,248\u001b[0m │\n",
       "├─────────────────────────────────┼────────────────────────┼───────────────┤\n",
       "│ max_pooling2d (\u001b[38;5;33mMaxPooling2D\u001b[0m)    │ (\u001b[38;5;45mNone\u001b[0m, \u001b[38;5;34m127\u001b[0m, \u001b[38;5;34m127\u001b[0m, \u001b[38;5;34m32\u001b[0m)   │             \u001b[38;5;34m0\u001b[0m │\n",
       "├─────────────────────────────────┼────────────────────────┼───────────────┤\n",
       "│ conv2d_2 (\u001b[38;5;33mConv2D\u001b[0m)               │ (\u001b[38;5;45mNone\u001b[0m, \u001b[38;5;34m127\u001b[0m, \u001b[38;5;34m127\u001b[0m, \u001b[38;5;34m64\u001b[0m)   │        \u001b[38;5;34m18,496\u001b[0m │\n",
       "├─────────────────────────────────┼────────────────────────┼───────────────┤\n",
       "│ conv2d_3 (\u001b[38;5;33mConv2D\u001b[0m)               │ (\u001b[38;5;45mNone\u001b[0m, \u001b[38;5;34m125\u001b[0m, \u001b[38;5;34m125\u001b[0m, \u001b[38;5;34m64\u001b[0m)   │        \u001b[38;5;34m36,928\u001b[0m │\n",
       "├─────────────────────────────────┼────────────────────────┼───────────────┤\n",
       "│ max_pooling2d_1 (\u001b[38;5;33mMaxPooling2D\u001b[0m)  │ (\u001b[38;5;45mNone\u001b[0m, \u001b[38;5;34m62\u001b[0m, \u001b[38;5;34m62\u001b[0m, \u001b[38;5;34m64\u001b[0m)     │             \u001b[38;5;34m0\u001b[0m │\n",
       "├─────────────────────────────────┼────────────────────────┼───────────────┤\n",
       "│ conv2d_4 (\u001b[38;5;33mConv2D\u001b[0m)               │ (\u001b[38;5;45mNone\u001b[0m, \u001b[38;5;34m62\u001b[0m, \u001b[38;5;34m62\u001b[0m, \u001b[38;5;34m128\u001b[0m)    │        \u001b[38;5;34m73,856\u001b[0m │\n",
       "├─────────────────────────────────┼────────────────────────┼───────────────┤\n",
       "│ conv2d_5 (\u001b[38;5;33mConv2D\u001b[0m)               │ (\u001b[38;5;45mNone\u001b[0m, \u001b[38;5;34m60\u001b[0m, \u001b[38;5;34m60\u001b[0m, \u001b[38;5;34m128\u001b[0m)    │       \u001b[38;5;34m147,584\u001b[0m │\n",
       "├─────────────────────────────────┼────────────────────────┼───────────────┤\n",
       "│ max_pooling2d_2 (\u001b[38;5;33mMaxPooling2D\u001b[0m)  │ (\u001b[38;5;45mNone\u001b[0m, \u001b[38;5;34m30\u001b[0m, \u001b[38;5;34m30\u001b[0m, \u001b[38;5;34m128\u001b[0m)    │             \u001b[38;5;34m0\u001b[0m │\n",
       "├─────────────────────────────────┼────────────────────────┼───────────────┤\n",
       "│ conv2d_6 (\u001b[38;5;33mConv2D\u001b[0m)               │ (\u001b[38;5;45mNone\u001b[0m, \u001b[38;5;34m30\u001b[0m, \u001b[38;5;34m30\u001b[0m, \u001b[38;5;34m256\u001b[0m)    │       \u001b[38;5;34m295,168\u001b[0m │\n",
       "├─────────────────────────────────┼────────────────────────┼───────────────┤\n",
       "│ conv2d_7 (\u001b[38;5;33mConv2D\u001b[0m)               │ (\u001b[38;5;45mNone\u001b[0m, \u001b[38;5;34m28\u001b[0m, \u001b[38;5;34m28\u001b[0m, \u001b[38;5;34m256\u001b[0m)    │       \u001b[38;5;34m590,080\u001b[0m │\n",
       "├─────────────────────────────────┼────────────────────────┼───────────────┤\n",
       "│ max_pooling2d_3 (\u001b[38;5;33mMaxPooling2D\u001b[0m)  │ (\u001b[38;5;45mNone\u001b[0m, \u001b[38;5;34m14\u001b[0m, \u001b[38;5;34m14\u001b[0m, \u001b[38;5;34m256\u001b[0m)    │             \u001b[38;5;34m0\u001b[0m │\n",
       "├─────────────────────────────────┼────────────────────────┼───────────────┤\n",
       "│ conv2d_8 (\u001b[38;5;33mConv2D\u001b[0m)               │ (\u001b[38;5;45mNone\u001b[0m, \u001b[38;5;34m14\u001b[0m, \u001b[38;5;34m14\u001b[0m, \u001b[38;5;34m512\u001b[0m)    │     \u001b[38;5;34m1,180,160\u001b[0m │\n",
       "├─────────────────────────────────┼────────────────────────┼───────────────┤\n",
       "│ conv2d_9 (\u001b[38;5;33mConv2D\u001b[0m)               │ (\u001b[38;5;45mNone\u001b[0m, \u001b[38;5;34m12\u001b[0m, \u001b[38;5;34m12\u001b[0m, \u001b[38;5;34m512\u001b[0m)    │     \u001b[38;5;34m2,359,808\u001b[0m │\n",
       "├─────────────────────────────────┼────────────────────────┼───────────────┤\n",
       "│ max_pooling2d_4 (\u001b[38;5;33mMaxPooling2D\u001b[0m)  │ (\u001b[38;5;45mNone\u001b[0m, \u001b[38;5;34m6\u001b[0m, \u001b[38;5;34m6\u001b[0m, \u001b[38;5;34m512\u001b[0m)      │             \u001b[38;5;34m0\u001b[0m │\n",
       "├─────────────────────────────────┼────────────────────────┼───────────────┤\n",
       "│ dropout (\u001b[38;5;33mDropout\u001b[0m)               │ (\u001b[38;5;45mNone\u001b[0m, \u001b[38;5;34m6\u001b[0m, \u001b[38;5;34m6\u001b[0m, \u001b[38;5;34m512\u001b[0m)      │             \u001b[38;5;34m0\u001b[0m │\n",
       "├─────────────────────────────────┼────────────────────────┼───────────────┤\n",
       "│ flatten (\u001b[38;5;33mFlatten\u001b[0m)               │ (\u001b[38;5;45mNone\u001b[0m, \u001b[38;5;34m18432\u001b[0m)          │             \u001b[38;5;34m0\u001b[0m │\n",
       "├─────────────────────────────────┼────────────────────────┼───────────────┤\n",
       "│ dense (\u001b[38;5;33mDense\u001b[0m)                   │ (\u001b[38;5;45mNone\u001b[0m, \u001b[38;5;34m1800\u001b[0m)           │    \u001b[38;5;34m33,179,400\u001b[0m │\n",
       "├─────────────────────────────────┼────────────────────────┼───────────────┤\n",
       "│ dropout_1 (\u001b[38;5;33mDropout\u001b[0m)             │ (\u001b[38;5;45mNone\u001b[0m, \u001b[38;5;34m1800\u001b[0m)           │             \u001b[38;5;34m0\u001b[0m │\n",
       "├─────────────────────────────────┼────────────────────────┼───────────────┤\n",
       "│ dense_1 (\u001b[38;5;33mDense\u001b[0m)                 │ (\u001b[38;5;45mNone\u001b[0m, \u001b[38;5;34m3\u001b[0m)              │         \u001b[38;5;34m5,403\u001b[0m │\n",
       "└─────────────────────────────────┴────────────────────────┴───────────────┘\n"
      ]
     },
     "metadata": {},
     "output_type": "display_data"
    },
    {
     "data": {
      "text/html": [
       "<pre style=\"white-space:pre;overflow-x:auto;line-height:normal;font-family:Menlo,'DejaVu Sans Mono',consolas,'Courier New',monospace\"><span style=\"font-weight: bold\"> Total params: </span><span style=\"color: #00af00; text-decoration-color: #00af00\">37,897,027</span> (144.57 MB)\n",
       "</pre>\n"
      ],
      "text/plain": [
       "\u001b[1m Total params: \u001b[0m\u001b[38;5;34m37,897,027\u001b[0m (144.57 MB)\n"
      ]
     },
     "metadata": {},
     "output_type": "display_data"
    },
    {
     "data": {
      "text/html": [
       "<pre style=\"white-space:pre;overflow-x:auto;line-height:normal;font-family:Menlo,'DejaVu Sans Mono',consolas,'Courier New',monospace\"><span style=\"font-weight: bold\"> Trainable params: </span><span style=\"color: #00af00; text-decoration-color: #00af00\">37,897,027</span> (144.57 MB)\n",
       "</pre>\n"
      ],
      "text/plain": [
       "\u001b[1m Trainable params: \u001b[0m\u001b[38;5;34m37,897,027\u001b[0m (144.57 MB)\n"
      ]
     },
     "metadata": {},
     "output_type": "display_data"
    },
    {
     "data": {
      "text/html": [
       "<pre style=\"white-space:pre;overflow-x:auto;line-height:normal;font-family:Menlo,'DejaVu Sans Mono',consolas,'Courier New',monospace\"><span style=\"font-weight: bold\"> Non-trainable params: </span><span style=\"color: #00af00; text-decoration-color: #00af00\">0</span> (0.00 B)\n",
       "</pre>\n"
      ],
      "text/plain": [
       "\u001b[1m Non-trainable params: \u001b[0m\u001b[38;5;34m0\u001b[0m (0.00 B)\n"
      ]
     },
     "metadata": {},
     "output_type": "display_data"
    }
   ],
   "source": [
    "#--> Compiling Model\n",
    "model.compile(optimizer=tf.keras.optimizers.Adam(learning_rate=0.0001), \n",
    "              loss='categorical_crossentropy', \n",
    "              metrics=['accuracy'])\n",
    "model.summary()"
   ]
  },
  {
   "cell_type": "code",
   "execution_count": 10,
   "metadata": {},
   "outputs": [
    {
     "name": "stdout",
     "output_type": "stream",
     "text": [
      "Epoch 1/10\n",
      "\u001b[1m29/29\u001b[0m \u001b[32m━━━━━━━━━━━━━━━━━━━━\u001b[0m\u001b[37m\u001b[0m \u001b[1m99s\u001b[0m 3s/step - accuracy: 0.4067 - loss: 1.6230 - val_accuracy: 0.6033 - val_loss: 0.8347\n",
      "Epoch 2/10\n",
      "\u001b[1m29/29\u001b[0m \u001b[32m━━━━━━━━━━━━━━━━━━━━\u001b[0m\u001b[37m\u001b[0m \u001b[1m86s\u001b[0m 3s/step - accuracy: 0.6476 - loss: 0.7424 - val_accuracy: 0.7233 - val_loss: 0.6546\n",
      "Epoch 3/10\n",
      "\u001b[1m29/29\u001b[0m \u001b[32m━━━━━━━━━━━━━━━━━━━━\u001b[0m\u001b[37m\u001b[0m \u001b[1m87s\u001b[0m 3s/step - accuracy: 0.7601 - loss: 0.5116 - val_accuracy: 0.8833 - val_loss: 0.2342\n",
      "Epoch 4/10\n",
      "\u001b[1m29/29\u001b[0m \u001b[32m━━━━━━━━━━━━━━━━━━━━\u001b[0m\u001b[37m\u001b[0m \u001b[1m91s\u001b[0m 3s/step - accuracy: 0.9156 - loss: 0.2268 - val_accuracy: 0.8667 - val_loss: 0.3174\n",
      "Epoch 5/10\n",
      "\u001b[1m29/29\u001b[0m \u001b[32m━━━━━━━━━━━━━━━━━━━━\u001b[0m\u001b[37m\u001b[0m \u001b[1m117s\u001b[0m 4s/step - accuracy: 0.8988 - loss: 0.2592 - val_accuracy: 0.9300 - val_loss: 0.1792\n",
      "Epoch 6/10\n",
      "\u001b[1m29/29\u001b[0m \u001b[32m━━━━━━━━━━━━━━━━━━━━\u001b[0m\u001b[37m\u001b[0m \u001b[1m98s\u001b[0m 3s/step - accuracy: 0.9426 - loss: 0.1261 - val_accuracy: 0.9633 - val_loss: 0.1141\n",
      "Epoch 7/10\n",
      "\u001b[1m29/29\u001b[0m \u001b[32m━━━━━━━━━━━━━━━━━━━━\u001b[0m\u001b[37m\u001b[0m \u001b[1m90s\u001b[0m 3s/step - accuracy: 0.9692 - loss: 0.0989 - val_accuracy: 0.9667 - val_loss: 0.1134\n",
      "Epoch 8/10\n",
      "\u001b[1m29/29\u001b[0m \u001b[32m━━━━━━━━━━━━━━━━━━━━\u001b[0m\u001b[37m\u001b[0m \u001b[1m86s\u001b[0m 3s/step - accuracy: 0.9703 - loss: 0.0764 - val_accuracy: 0.8567 - val_loss: 0.4425\n",
      "Epoch 9/10\n",
      "\u001b[1m29/29\u001b[0m \u001b[32m━━━━━━━━━━━━━━━━━━━━\u001b[0m\u001b[37m\u001b[0m \u001b[1m86s\u001b[0m 3s/step - accuracy: 0.9405 - loss: 0.1509 - val_accuracy: 0.9733 - val_loss: 0.0993\n",
      "Epoch 10/10\n",
      "\u001b[1m29/29\u001b[0m \u001b[32m━━━━━━━━━━━━━━━━━━━━\u001b[0m\u001b[37m\u001b[0m \u001b[1m86s\u001b[0m 3s/step - accuracy: 0.9745 - loss: 0.0701 - val_accuracy: 0.8900 - val_loss: 0.2782\n"
     ]
    }
   ],
   "source": [
    "#--> Model Training\n",
    "\n",
    "training_history= model.fit(training_set,validation_data=validation_set,epochs=10)\n"
   ]
  },
  {
   "cell_type": "code",
   "execution_count": 11,
   "metadata": {},
   "outputs": [
    {
     "name": "stdout",
     "output_type": "stream",
     "text": [
      "\u001b[1m29/29\u001b[0m \u001b[32m━━━━━━━━━━━━━━━━━━━━\u001b[0m\u001b[37m\u001b[0m \u001b[1m17s\u001b[0m 586ms/step - accuracy: 0.9662 - loss: 0.1059\n"
     ]
    }
   ],
   "source": [
    "# --> Model Evaluation\n",
    "\n",
    "#--> Model Evalution on Taining Set\n",
    "train_loss,train_acc= model.evaluate(training_set)\n",
    "\n"
   ]
  },
  {
   "cell_type": "code",
   "execution_count": 12,
   "metadata": {},
   "outputs": [
    {
     "name": "stdout",
     "output_type": "stream",
     "text": [
      "0.08775654435157776 0.9688888788223267\n"
     ]
    }
   ],
   "source": [
    "print(train_loss,train_acc)"
   ]
  },
  {
   "cell_type": "code",
   "execution_count": 13,
   "metadata": {},
   "outputs": [
    {
     "name": "stdout",
     "output_type": "stream",
     "text": [
      "\u001b[1m10/10\u001b[0m \u001b[32m━━━━━━━━━━━━━━━━━━━━\u001b[0m\u001b[37m\u001b[0m \u001b[1m6s\u001b[0m 544ms/step - accuracy: 0.9519 - loss: 0.1308\n"
     ]
    }
   ],
   "source": [
    "#--> Model on Validation set\n",
    "\n",
    "val_loss,val_acc= model.evaluate(validation_set)\n",
    "\n",
    "\n"
   ]
  },
  {
   "cell_type": "code",
   "execution_count": 14,
   "metadata": {},
   "outputs": [
    {
     "name": "stdout",
     "output_type": "stream",
     "text": [
      "0.27823349833488464 0.8899999856948853\n"
     ]
    }
   ],
   "source": [
    "print(val_loss,val_acc)"
   ]
  },
  {
   "cell_type": "code",
   "execution_count": 15,
   "metadata": {},
   "outputs": [
    {
     "data": {
      "text/plain": [
       "{'accuracy': [0.44333332777023315,\n",
       "  0.7111111283302307,\n",
       "  0.8188889026641846,\n",
       "  0.9222221970558167,\n",
       "  0.9244444370269775,\n",
       "  0.95333331823349,\n",
       "  0.9633333086967468,\n",
       "  0.9622222185134888,\n",
       "  0.9522222280502319,\n",
       "  0.9788888692855835],\n",
       " 'loss': [1.2413840293884277,\n",
       "  0.6265262365341187,\n",
       "  0.4230208992958069,\n",
       "  0.20891068875789642,\n",
       "  0.20142440497875214,\n",
       "  0.10704547166824341,\n",
       "  0.1061437726020813,\n",
       "  0.11233579367399216,\n",
       "  0.12905846536159515,\n",
       "  0.05816365033388138],\n",
       " 'val_accuracy': [0.6033333539962769,\n",
       "  0.7233333587646484,\n",
       "  0.8833333253860474,\n",
       "  0.8666666746139526,\n",
       "  0.9300000071525574,\n",
       "  0.9633333086967468,\n",
       "  0.9666666388511658,\n",
       "  0.8566666841506958,\n",
       "  0.9733333587646484,\n",
       "  0.8899999856948853],\n",
       " 'val_loss': [0.8347209692001343,\n",
       "  0.654625654220581,\n",
       "  0.23421615362167358,\n",
       "  0.3174472451210022,\n",
       "  0.17919796705245972,\n",
       "  0.11406237632036209,\n",
       "  0.11335207521915436,\n",
       "  0.4424823522567749,\n",
       "  0.09932427108287811,\n",
       "  0.27823349833488464]}"
      ]
     },
     "execution_count": 15,
     "metadata": {},
     "output_type": "execute_result"
    }
   ],
   "source": [
    "#--> Saving Model\n",
    "\n",
    "model.save('trained_model4.keras')\n",
    "\n",
    "training_history.history"
   ]
  },
  {
   "cell_type": "code",
   "execution_count": 16,
   "metadata": {},
   "outputs": [],
   "source": [
    "#--> Recording History in JSON\n",
    "\n",
    "import json\n",
    "with open('training_history.json','w') as f:\n",
    "  json.dump(training_history.history,f)\n"
   ]
  },
  {
   "cell_type": "code",
   "execution_count": 17,
   "metadata": {},
   "outputs": [
    {
     "data": {
      "image/png": "[encoded data removed]",
      "text/plain": [
       "<Figure size 640x480 with 1 Axes>"
      ]
     },
     "metadata": {},
     "output_type": "display_data"
    },
    {
     "data": {
      "text/plain": [
       "<module 'matplotlib.pyplot' from 'c:\\\\Users\\\\navu1\\\\AppData\\\\Local\\\\Programs\\\\Python\\\\Python311\\\\Lib\\\\site-packages\\\\matplotlib\\\\pyplot.py'>"
      ]
     },
     "execution_count": 17,
     "metadata": {},
     "output_type": "execute_result"
    }
   ],
   "source": [
    "#--> Accuracy Visualization\n",
    "\n",
    "epochs = [i for i in range(1,11)]\n",
    "plt.plot(epochs,training_history.history['accuracy'],color='red',label='Training Accuracy')\n",
    "plt.plot(epochs,training_history.history['val_accuracy'],color='blue',label='Validation Accuracy')\n",
    "plt.title('Training and Validation Accuracy')\n",
    "plt.xlabel('Epochs')\n",
    "plt.ylabel('Accuracy')\n",
    "plt.legend()\n",
    "plt.show()\n",
    "plt"
   ]
  },
  {
   "cell_type": "code",
   "execution_count": 18,
   "metadata": {},
   "outputs": [
    {
     "data": {
      "text/plain": [
       "['Early_blight', 'healthy', 'late_blight']"
      ]
     },
     "execution_count": 18,
     "metadata": {},
     "output_type": "execute_result"
    }
   ],
   "source": [
    "#--> Some Other Model Evaluation Metrices\n",
    "\n",
    "class_name=validation_set.class_names\n",
    "class_name\n"
   ]
  },
  {
   "cell_type": "code",
   "execution_count": 19,
   "metadata": {},
   "outputs": [
    {
     "name": "stdout",
     "output_type": "stream",
     "text": [
      "Found 300 files belonging to 3 classes.\n"
     ]
    }
   ],
   "source": [
    "Test=r\"D:\\7-sem-project\\potato_crop\\Potato\\Test\"\n",
    "test_set= tf.keras.utils.image_dataset_from_directory(\n",
    "    Test,\n",
    "    labels=\"inferred\", #--> Taking Same Name as Directory name\n",
    "    label_mode=\"categorical\",\n",
    "    class_names=None,\n",
    "    color_mode=\"rgb\",\n",
    "    batch_size=32,\n",
    "    image_size=(256, 256\n",
    "    ),\n",
    "    shuffle=False,\n",
    "    seed=None,\n",
    "    validation_split=None,\n",
    "    subset=None,\n",
    "    interpolation=\"bilinear\",\n",
    "    follow_links=False,\n",
    "    crop_to_aspect_ratio=False,\n",
    "    pad_to_aspect_ratio=False,\n",
    "    data_format=None,\n",
    "    verbose=True,\n",
    ")"
   ]
  },
  {
   "cell_type": "code",
   "execution_count": 20,
   "metadata": {},
   "outputs": [
    {
     "name": "stdout",
     "output_type": "stream",
     "text": [
      "\u001b[1m10/10\u001b[0m \u001b[32m━━━━━━━━━━━━━━━━━━━━\u001b[0m\u001b[37m\u001b[0m \u001b[1m7s\u001b[0m 626ms/step\n"
     ]
    },
    {
     "data": {
      "text/plain": [
       "(array([[9.99995351e-01, 1.68508860e-10, 4.64822551e-06],\n",
       "        [1.00000000e+00, 7.14831089e-17, 4.96165464e-09],\n",
       "        [9.99989271e-01, 1.73654746e-09, 1.07647047e-05],\n",
       "        [1.00000000e+00, 3.06554955e-17, 1.57788602e-10],\n",
       "        [1.00000000e+00, 1.25284703e-14, 1.37284175e-08],\n",
       "        [9.99993086e-01, 4.13007580e-11, 6.96091547e-06],\n",
       "        [1.00000000e+00, 3.02198072e-13, 1.96928163e-09],\n",
       "        [9.99965906e-01, 3.61917551e-10, 3.40333499e-05],\n",
       "        [1.00000000e+00, 9.74305069e-15, 1.80715656e-08],\n",
       "        [1.00000000e+00, 2.06253941e-15, 2.72191714e-09],\n",
       "        [9.99964833e-01, 6.82525370e-10, 3.51779672e-05],\n",
       "        [9.99999881e-01, 1.43126700e-12, 1.33537526e-07],\n",
       "        [1.00000000e+00, 2.44702763e-16, 2.17989474e-10],\n",
       "        [1.00000000e+00, 1.08011491e-17, 6.23047586e-11],\n",
       "        [9.99960780e-01, 6.52765086e-09, 3.92622715e-05],\n",
       "        [1.00000000e+00, 7.42153592e-17, 1.30840269e-10],\n",
       "        [9.99999881e-01, 2.14102932e-13, 1.43902270e-07],\n",
       "        [1.00000000e+00, 2.67081973e-12, 4.99742434e-08],\n",
       "        [9.98815060e-01, 4.63166871e-05, 1.13859784e-03],\n",
       "        [1.00000000e+00, 1.32907796e-14, 5.44426442e-08],\n",
       "        [9.99998808e-01, 1.37723152e-10, 1.24881046e-06],\n",
       "        [9.99958873e-01, 2.48343763e-08, 4.11722976e-05],\n",
       "        [9.99999523e-01, 1.51068101e-12, 4.38793933e-07],\n",
       "        [9.99980211e-01, 8.04326383e-10, 1.97478148e-05],\n",
       "        [9.99253571e-01, 1.02131274e-07, 7.46250036e-04],\n",
       "        [1.00000000e+00, 4.48606351e-17, 2.61086530e-09],\n",
       "        [9.99997854e-01, 7.21637403e-11, 2.08804158e-06],\n",
       "        [9.99739707e-01, 4.37682638e-06, 2.55838881e-04],\n",
       "        [9.99999642e-01, 1.02481348e-12, 4.01121895e-07],\n",
       "        [9.99894261e-01, 1.47064503e-08, 1.05771942e-04],\n",
       "        [9.93297637e-01, 2.33921437e-05, 6.67891186e-03],\n",
       "        [1.00000000e+00, 1.07400220e-15, 7.84950682e-09],\n",
       "        [1.00000000e+00, 3.30918357e-14, 2.51029029e-08],\n",
       "        [9.99945283e-01, 3.03389092e-09, 5.47358577e-05],\n",
       "        [9.99942064e-01, 6.81626477e-10, 5.79200714e-05],\n",
       "        [9.99988675e-01, 2.71019613e-11, 1.13352844e-05],\n",
       "        [1.00000000e+00, 1.13009230e-15, 5.75828807e-09],\n",
       "        [9.99538779e-01, 9.73578196e-09, 4.61246527e-04],\n",
       "        [9.99865532e-01, 9.55980326e-08, 1.34348869e-04],\n",
       "        [9.99999285e-01, 2.00904370e-13, 6.89917499e-07],\n",
       "        [1.00000000e+00, 2.49937078e-14, 2.43654448e-08],\n",
       "        [1.00000000e+00, 2.36041682e-13, 1.67489755e-09],\n",
       "        [1.00000000e+00, 2.07884931e-17, 3.76882553e-11],\n",
       "        [9.99949813e-01, 4.53951365e-09, 5.02162657e-05],\n",
       "        [9.99999166e-01, 1.83395833e-12, 8.25595350e-07],\n",
       "        [9.99625087e-01, 4.24652171e-07, 3.74434778e-04],\n",
       "        [1.00000000e+00, 5.39951120e-18, 6.24094179e-11],\n",
       "        [9.99600589e-01, 4.29063630e-06, 3.95150622e-04],\n",
       "        [1.00000000e+00, 2.29664649e-14, 1.03963105e-08],\n",
       "        [9.99995589e-01, 2.52805499e-10, 4.42213195e-06],\n",
       "        [1.00000000e+00, 5.81397994e-15, 6.58901100e-10],\n",
       "        [9.97595727e-01, 7.12408746e-06, 2.39712885e-03],\n",
       "        [9.99993443e-01, 2.87602760e-13, 6.57738519e-06],\n",
       "        [9.99996662e-01, 4.34787518e-11, 3.29903969e-06],\n",
       "        [9.99998093e-01, 5.85287860e-11, 1.95324787e-06],\n",
       "        [1.00000000e+00, 1.62150627e-17, 3.26299210e-10],\n",
       "        [9.99999881e-01, 1.41508130e-15, 7.12177695e-08],\n",
       "        [9.99984980e-01, 7.08802244e-12, 1.49910566e-05],\n",
       "        [1.00000000e+00, 3.89992815e-15, 2.99176794e-09],\n",
       "        [9.99999166e-01, 2.02915601e-11, 8.08448704e-07],\n",
       "        [9.98961091e-01, 4.88175296e-08, 1.03886845e-03],\n",
       "        [1.00000000e+00, 7.68722163e-13, 4.05431635e-08],\n",
       "        [9.99953032e-01, 2.37782377e-10, 4.69975457e-05],\n",
       "        [9.99349535e-01, 2.33428992e-07, 6.50227419e-04],\n",
       "        [9.99998689e-01, 2.24075424e-12, 1.36630808e-06],\n",
       "        [9.99998689e-01, 6.09149883e-13, 1.27747194e-06],\n",
       "        [1.00000000e+00, 9.05007141e-18, 4.01499556e-10],\n",
       "        [1.00000000e+00, 5.79717099e-15, 3.92640631e-09],\n",
       "        [1.00000000e+00, 1.39423185e-16, 1.25411281e-09],\n",
       "        [9.88748193e-01, 2.94265283e-05, 1.12223513e-02],\n",
       "        [9.99999881e-01, 2.54862039e-12, 9.24771371e-08],\n",
       "        [9.99999762e-01, 2.76197576e-13, 2.37575321e-07],\n",
       "        [9.99672771e-01, 2.07643097e-06, 3.25164467e-04],\n",
       "        [9.99988437e-01, 1.67618852e-09, 1.16192386e-05],\n",
       "        [9.99977589e-01, 1.87290516e-09, 2.24263276e-05],\n",
       "        [9.99996781e-01, 6.47351638e-13, 3.26154122e-06],\n",
       "        [1.00000000e+00, 2.64807182e-14, 4.32252776e-08],\n",
       "        [1.00000000e+00, 4.91735450e-13, 2.09982378e-08],\n",
       "        [1.00000000e+00, 2.56892066e-14, 2.69760072e-08],\n",
       "        [9.97633696e-01, 1.98828740e-04, 2.16744654e-03],\n",
       "        [9.99323010e-01, 1.61605612e-06, 6.75325398e-04],\n",
       "        [9.99997497e-01, 3.43303012e-12, 2.52094355e-06],\n",
       "        [9.99764264e-01, 6.14409359e-08, 2.35649990e-04],\n",
       "        [9.99997854e-01, 2.01088330e-11, 2.19668323e-06],\n",
       "        [9.99999881e-01, 2.49292709e-12, 7.63305081e-08],\n",
       "        [9.92034614e-01, 8.79675177e-09, 7.96532817e-03],\n",
       "        [9.99947548e-01, 2.26740653e-08, 5.24327588e-05],\n",
       "        [1.00000000e+00, 9.35095534e-13, 1.31788900e-08],\n",
       "        [9.99997020e-01, 5.92998012e-11, 2.97086899e-06],\n",
       "        [9.99973059e-01, 2.39542679e-08, 2.68992790e-05],\n",
       "        [9.99999404e-01, 4.50026431e-12, 6.14828593e-07],\n",
       "        [9.99889851e-01, 3.88437948e-10, 1.10188186e-04],\n",
       "        [9.99995232e-01, 4.74453150e-11, 4.77366802e-06],\n",
       "        [1.00000000e+00, 7.55397714e-18, 4.07773260e-10],\n",
       "        [9.99970794e-01, 1.43111799e-06, 2.77158761e-05],\n",
       "        [9.99987483e-01, 5.48666772e-11, 1.25311426e-05],\n",
       "        [9.99995589e-01, 1.15748036e-11, 4.39872065e-06],\n",
       "        [9.98802543e-01, 6.79172954e-05, 1.12952536e-03],\n",
       "        [9.99999881e-01, 1.97430180e-13, 1.52494763e-07],\n",
       "        [1.00000000e+00, 4.10562248e-15, 2.92023099e-08],\n",
       "        [1.04767466e-07, 9.99053657e-01, 9.46234562e-04],\n",
       "        [2.40538583e-07, 9.99537230e-01, 4.62534925e-04],\n",
       "        [6.98127822e-09, 9.99331892e-01, 6.68040826e-04],\n",
       "        [1.56029756e-07, 9.99948978e-01, 5.08087396e-05],\n",
       "        [3.93943766e-11, 9.99953508e-01, 4.64448021e-05],\n",
       "        [1.74730799e-10, 9.99939561e-01, 6.03852386e-05],\n",
       "        [1.53992184e-11, 9.99991655e-01, 8.34059665e-06],\n",
       "        [7.39555708e-11, 9.99830246e-01, 1.69688486e-04],\n",
       "        [1.15663779e-09, 9.99991179e-01, 8.79905201e-06],\n",
       "        [1.30012117e-08, 9.99434531e-01, 5.65405993e-04],\n",
       "        [1.89078184e-10, 9.99983072e-01, 1.68754359e-05],\n",
       "        [2.55030025e-11, 9.99998450e-01, 1.59360957e-06],\n",
       "        [6.08374194e-07, 9.99246359e-01, 7.53069296e-04],\n",
       "        [1.89914118e-07, 9.99910593e-01, 8.92513999e-05],\n",
       "        [1.66811165e-09, 9.99976158e-01, 2.38008761e-05],\n",
       "        [4.96291250e-07, 9.99560416e-01, 4.39050957e-04],\n",
       "        [1.72153079e-06, 9.54438090e-01, 4.55601253e-02],\n",
       "        [6.36036532e-07, 9.77976143e-01, 2.20232010e-02],\n",
       "        [4.64648610e-06, 9.84807849e-01, 1.51874656e-02],\n",
       "        [2.75039469e-07, 9.92608607e-01, 7.39110122e-03],\n",
       "        [5.41124021e-11, 9.99990106e-01, 9.86677151e-06],\n",
       "        [4.35060379e-08, 9.99348581e-01, 6.51421025e-04],\n",
       "        [2.92471519e-10, 9.99923706e-01, 7.62473937e-05],\n",
       "        [3.66029851e-09, 9.99899864e-01, 1.00114012e-04],\n",
       "        [9.03190323e-09, 9.69913900e-01, 3.00861131e-02],\n",
       "        [2.39085665e-07, 7.07987726e-01, 2.92012066e-01],\n",
       "        [4.14043200e-08, 9.93885815e-01, 6.11418951e-03],\n",
       "        [1.34503736e-07, 9.87071931e-01, 1.29279094e-02],\n",
       "        [1.35667528e-06, 9.93935645e-01, 6.06306363e-03],\n",
       "        [2.34354548e-06, 9.98755932e-01, 1.24167616e-03],\n",
       "        [8.82759741e-06, 9.89184141e-01, 1.08070625e-02],\n",
       "        [3.61900015e-06, 9.88811851e-01, 1.11844912e-02],\n",
       "        [8.21540198e-07, 9.99475658e-01, 5.23589086e-04],\n",
       "        [6.94848381e-07, 9.99043763e-01, 9.55475785e-04],\n",
       "        [1.28557005e-07, 9.99495029e-01, 5.04875556e-04],\n",
       "        [1.58535954e-06, 9.91674840e-01, 8.32356606e-03],\n",
       "        [2.12507388e-07, 9.99649286e-01, 3.50496673e-04],\n",
       "        [1.19158472e-07, 9.99863029e-01, 1.36806266e-04],\n",
       "        [3.26865830e-07, 9.99761283e-01, 2.38345659e-04],\n",
       "        [2.24764776e-08, 9.99829531e-01, 1.70397849e-04],\n",
       "        [4.67367528e-07, 9.99508977e-01, 4.90511011e-04],\n",
       "        [1.12849762e-07, 9.99204099e-01, 7.95843545e-04],\n",
       "        [2.11500399e-08, 9.99907613e-01, 9.23457192e-05],\n",
       "        [3.81355285e-08, 9.99945998e-01, 5.40112887e-05],\n",
       "        [1.96116936e-08, 9.92258608e-01, 7.74139678e-03],\n",
       "        [5.81658455e-08, 9.47344422e-01, 5.26555441e-02],\n",
       "        [1.77472936e-09, 9.96863723e-01, 3.13629792e-03],\n",
       "        [2.70783640e-09, 9.99442756e-01, 5.57281135e-04],\n",
       "        [8.72375167e-05, 2.16944486e-01, 7.82968223e-01],\n",
       "        [1.38166333e-05, 2.43923254e-02, 9.75593805e-01],\n",
       "        [2.57877196e-06, 1.94843987e-03, 9.98048902e-01],\n",
       "        [5.92316781e-07, 8.86955187e-02, 9.11303878e-01],\n",
       "        [6.90774016e-09, 9.99961257e-01, 3.87567525e-05],\n",
       "        [2.32183806e-09, 9.99977469e-01, 2.25512977e-05],\n",
       "        [3.08863974e-08, 9.99805152e-01, 1.94872584e-04],\n",
       "        [1.71542414e-09, 9.99915719e-01, 8.42601439e-05],\n",
       "        [8.37978020e-10, 9.99850273e-01, 1.49668471e-04],\n",
       "        [4.60358723e-10, 9.99981523e-01, 1.85316967e-05],\n",
       "        [2.73349381e-11, 9.99997616e-01, 2.42469650e-06],\n",
       "        [8.01716679e-12, 9.99998569e-01, 1.43515138e-06],\n",
       "        [5.83481960e-06, 9.95680571e-01, 4.31361003e-03],\n",
       "        [3.51194794e-05, 9.83245969e-01, 1.67188775e-02],\n",
       "        [6.31889634e-05, 9.94194925e-01, 5.74187748e-03],\n",
       "        [8.30436693e-06, 9.96637821e-01, 3.35382344e-03],\n",
       "        [6.30553131e-07, 9.99552906e-01, 4.46416961e-04],\n",
       "        [1.60333755e-07, 9.99514818e-01, 4.85073018e-04],\n",
       "        [4.55190765e-08, 9.99860525e-01, 1.39436481e-04],\n",
       "        [1.18803980e-08, 9.99918818e-01, 8.12192884e-05],\n",
       "        [6.36120356e-09, 9.98630166e-01, 1.36985246e-03],\n",
       "        [4.10210621e-09, 9.98519480e-01, 1.48052652e-03],\n",
       "        [1.08092610e-08, 9.97232854e-01, 2.76715099e-03],\n",
       "        [1.44371342e-07, 9.98927891e-01, 1.07191538e-03],\n",
       "        [8.16300526e-05, 6.78967237e-01, 3.20951194e-01],\n",
       "        [3.25496621e-05, 6.35722995e-01, 3.64244431e-01],\n",
       "        [2.34345353e-04, 2.81100810e-01, 7.18664885e-01],\n",
       "        [4.89239232e-04, 3.88683528e-01, 6.10827267e-01],\n",
       "        [1.09964759e-07, 9.92478848e-01, 7.52101606e-03],\n",
       "        [1.02237630e-06, 9.58142221e-01, 4.18567918e-02],\n",
       "        [1.25304947e-10, 9.99755204e-01, 2.44765717e-04],\n",
       "        [1.81132248e-10, 9.99875426e-01, 1.24578029e-04],\n",
       "        [1.57683593e-04, 9.65554714e-01, 3.42876129e-02],\n",
       "        [7.99555273e-04, 8.84061635e-01, 1.15138784e-01],\n",
       "        [2.26018223e-04, 9.62259054e-01, 3.75149548e-02],\n",
       "        [1.56140231e-04, 9.79229450e-01, 2.06144545e-02],\n",
       "        [1.60550739e-09, 9.99998569e-01, 1.47218213e-06],\n",
       "        [6.31789865e-09, 9.99988437e-01, 1.15064431e-05],\n",
       "        [5.62389602e-09, 9.99974489e-01, 2.54573206e-05],\n",
       "        [5.77643731e-11, 9.99939799e-01, 6.02326654e-05],\n",
       "        [1.47441568e-07, 9.99521017e-01, 4.78834147e-04],\n",
       "        [2.15645105e-05, 9.38602865e-01, 6.13756180e-02],\n",
       "        [1.23833033e-07, 9.86989021e-01, 1.30109014e-02],\n",
       "        [2.03196713e-08, 9.99665380e-01, 3.34573822e-04],\n",
       "        [4.79936716e-07, 9.99746740e-01, 2.52753001e-04],\n",
       "        [3.49816043e-09, 9.99971986e-01, 2.80150325e-05],\n",
       "        [6.39363362e-09, 9.99615550e-01, 3.84414830e-04],\n",
       "        [1.63078582e-07, 9.95626807e-01, 4.37307078e-03],\n",
       "        [1.19335798e-03, 7.36685812e-01, 2.62120873e-01],\n",
       "        [2.34407396e-03, 8.66693556e-01, 1.30962402e-01],\n",
       "        [3.88582819e-03, 7.19962299e-01, 2.76151925e-01],\n",
       "        [1.55303022e-03, 7.60577202e-01, 2.37869829e-01],\n",
       "        [9.45137290e-05, 1.69778228e-01, 8.30127299e-01],\n",
       "        [9.69202995e-01, 1.12425475e-07, 3.07968743e-02],\n",
       "        [3.53838801e-01, 6.33623358e-03, 6.39824927e-01],\n",
       "        [1.62422942e-09, 9.98478472e-01, 1.52154185e-03],\n",
       "        [4.70972598e-01, 2.94188084e-03, 5.26085556e-01],\n",
       "        [2.32316816e-04, 2.16252874e-06, 9.99765575e-01],\n",
       "        [9.11361771e-04, 8.75427620e-04, 9.98213172e-01],\n",
       "        [5.56394383e-02, 5.49522247e-06, 9.44355071e-01],\n",
       "        [7.50759184e-01, 1.20250050e-07, 2.49240696e-01],\n",
       "        [6.43051863e-01, 1.30024462e-04, 3.56818050e-01],\n",
       "        [6.77928269e-01, 4.01414325e-03, 3.18057507e-01],\n",
       "        [5.61341286e-01, 2.14466266e-02, 4.17212188e-01],\n",
       "        [4.49151665e-01, 1.26146839e-03, 5.49586952e-01],\n",
       "        [9.60187852e-01, 5.10009022e-06, 3.98069955e-02],\n",
       "        [7.10131775e-04, 1.67415038e-07, 9.99289751e-01],\n",
       "        [8.56199913e-05, 3.76405842e-06, 9.99910593e-01],\n",
       "        [6.72897696e-02, 3.43328752e-02, 8.98377299e-01],\n",
       "        [5.61843254e-03, 2.37504602e-03, 9.92006481e-01],\n",
       "        [8.16266239e-03, 1.82060897e-02, 9.73631203e-01],\n",
       "        [3.64775538e-01, 3.16308542e-05, 6.35192811e-01],\n",
       "        [7.46198714e-01, 2.79066285e-07, 2.53800958e-01],\n",
       "        [1.70473933e-01, 9.04959720e-03, 8.20476472e-01],\n",
       "        [1.17378670e-03, 3.30417424e-05, 9.98793125e-01],\n",
       "        [6.88756164e-03, 5.67193851e-02, 9.36393082e-01],\n",
       "        [3.10632419e-02, 5.90367883e-04, 9.68346417e-01],\n",
       "        [3.85565639e-01, 2.08028825e-03, 6.12353981e-01],\n",
       "        [2.28097662e-01, 5.13097657e-05, 7.71851003e-01],\n",
       "        [9.63825360e-03, 5.11743974e-06, 9.90356624e-01],\n",
       "        [1.67976674e-02, 2.70019722e-04, 9.82932329e-01],\n",
       "        [4.40179463e-03, 4.20369171e-02, 9.53561366e-01],\n",
       "        [9.02258039e-01, 1.78707387e-06, 9.77401063e-02],\n",
       "        [6.14874007e-04, 1.16683977e-05, 9.99373496e-01],\n",
       "        [2.11324714e-05, 9.28620934e-01, 7.13579804e-02],\n",
       "        [7.66546011e-01, 4.52214607e-07, 2.33453572e-01],\n",
       "        [8.34954739e-01, 3.41500381e-05, 1.65011123e-01],\n",
       "        [6.71480373e-02, 2.02340493e-06, 9.32849884e-01],\n",
       "        [8.01876944e-04, 6.62242528e-05, 9.99131978e-01],\n",
       "        [1.24741416e-06, 5.03596105e-02, 9.49639142e-01],\n",
       "        [9.47376966e-01, 6.68213886e-07, 5.26223145e-02],\n",
       "        [9.41653624e-02, 3.40293838e-07, 9.05834317e-01],\n",
       "        [4.29317318e-02, 1.68858736e-04, 9.56899405e-01],\n",
       "        [6.07549227e-05, 8.90335441e-01, 1.09603792e-01],\n",
       "        [3.23195453e-03, 8.34808126e-03, 9.88420010e-01],\n",
       "        [4.83841479e-01, 8.27648852e-04, 5.15330791e-01],\n",
       "        [2.10390408e-02, 1.25009974e-04, 9.78836000e-01],\n",
       "        [6.41688966e-05, 1.03904393e-04, 9.99831915e-01],\n",
       "        [1.29022068e-04, 5.73364669e-04, 9.99297619e-01],\n",
       "        [7.09479814e-03, 5.36834635e-02, 9.39221740e-01],\n",
       "        [4.09348428e-01, 5.58185036e-07, 5.90651035e-01],\n",
       "        [3.67941597e-04, 6.24656081e-01, 3.74975950e-01],\n",
       "        [6.21709898e-02, 2.17393943e-04, 9.37611639e-01],\n",
       "        [2.61585054e-04, 5.18012345e-02, 9.47937191e-01],\n",
       "        [6.70293272e-01, 4.10722860e-05, 3.29665691e-01],\n",
       "        [4.96602524e-03, 2.75821967e-05, 9.95006323e-01],\n",
       "        [3.65559369e-01, 1.38531876e-04, 6.34302080e-01],\n",
       "        [1.59634079e-03, 9.79655623e-01, 1.87479891e-02],\n",
       "        [2.00719759e-03, 5.58337255e-04, 9.97434437e-01],\n",
       "        [8.81370250e-03, 3.38056475e-06, 9.91182923e-01],\n",
       "        [6.51466548e-02, 4.31872513e-06, 9.34849024e-01],\n",
       "        [4.69231466e-03, 7.08497782e-06, 9.95300531e-01],\n",
       "        [9.07741953e-04, 4.07150924e-01, 5.91941357e-01],\n",
       "        [6.77044988e-02, 2.71031931e-05, 9.32268381e-01],\n",
       "        [3.33822332e-04, 4.55271715e-04, 9.99210835e-01],\n",
       "        [5.17778531e-08, 1.61765001e-05, 9.99983788e-01],\n",
       "        [2.89196125e-03, 2.01364071e-03, 9.95094419e-01],\n",
       "        [2.00835802e-03, 1.16997596e-03, 9.96821642e-01],\n",
       "        [5.89830161e-04, 1.56212403e-02, 9.83788967e-01],\n",
       "        [8.11247230e-01, 2.20442030e-06, 1.88750550e-01],\n",
       "        [5.71971992e-04, 3.90962377e-04, 9.99037027e-01],\n",
       "        [1.67626351e-01, 1.34152208e-06, 8.32372308e-01],\n",
       "        [2.64451891e-01, 8.91084767e-07, 7.35547245e-01],\n",
       "        [1.19972736e-01, 1.16400633e-05, 8.80015612e-01],\n",
       "        [4.84834433e-01, 1.86347378e-07, 5.15165329e-01],\n",
       "        [3.28067946e-03, 1.58622744e-04, 9.96560752e-01],\n",
       "        [6.31592751e-01, 2.41620228e-07, 3.68407041e-01],\n",
       "        [2.15942748e-02, 1.53889141e-05, 9.78390336e-01],\n",
       "        [1.28309270e-02, 3.15740006e-04, 9.86853242e-01],\n",
       "        [1.21117721e-03, 5.88196372e-06, 9.98783052e-01],\n",
       "        [2.78027528e-07, 9.87069607e-01, 1.29301045e-02],\n",
       "        [5.29682226e-02, 2.09716037e-02, 9.26060200e-01],\n",
       "        [2.98914476e-03, 1.61276326e-01, 8.35734546e-01],\n",
       "        [3.80007066e-02, 5.62257192e-05, 9.61943150e-01],\n",
       "        [5.55440784e-04, 2.31827562e-05, 9.99421358e-01],\n",
       "        [2.53873300e-02, 3.59139958e-05, 9.74576771e-01],\n",
       "        [5.56201458e-01, 3.09444586e-05, 4.43767548e-01],\n",
       "        [6.44927013e-06, 5.96608877e-01, 4.03384656e-01],\n",
       "        [2.85718471e-01, 8.77752973e-05, 7.14193761e-01],\n",
       "        [6.60153985e-01, 5.76908991e-04, 3.39269131e-01],\n",
       "        [4.49803541e-04, 3.85664025e-05, 9.99511600e-01],\n",
       "        [8.85997474e-01, 1.41659209e-08, 1.14002503e-01],\n",
       "        [8.47545028e-01, 1.91178151e-06, 1.52453095e-01],\n",
       "        [4.18691002e-02, 1.16880576e-04, 9.58014071e-01],\n",
       "        [3.15221911e-03, 1.20205495e-05, 9.96835768e-01],\n",
       "        [3.41168374e-08, 7.59843620e-04, 9.99240160e-01],\n",
       "        [7.95251369e-01, 1.35575718e-07, 2.04748496e-01],\n",
       "        [2.86913723e-06, 8.51501524e-01, 1.48495570e-01],\n",
       "        [5.85059822e-03, 8.68583005e-03, 9.85463560e-01],\n",
       "        [5.56363240e-02, 1.31804366e-02, 9.31183219e-01],\n",
       "        [1.15810384e-04, 1.32969748e-02, 9.86587107e-01],\n",
       "        [4.74874955e-03, 7.72221107e-03, 9.87529039e-01]], dtype=float32),\n",
       " (300, 3))"
      ]
     },
     "execution_count": 20,
     "metadata": {},
     "output_type": "execute_result"
    }
   ],
   "source": [
    "#--> Performing Prediction\n",
    "\n",
    "y_pred=model.predict(test_set)\n",
    "y_pred,y_pred.shape"
   ]
  },
  {
   "cell_type": "code",
   "execution_count": 21,
   "metadata": {},
   "outputs": [
    {
     "data": {
      "text/plain": [
       "<tf.Tensor: shape=(300,), dtype=int64, numpy=\n",
       "array([0, 0, 0, 0, 0, 0, 0, 0, 0, 0, 0, 0, 0, 0, 0, 0, 0, 0, 0, 0, 0, 0,\n",
       "       0, 0, 0, 0, 0, 0, 0, 0, 0, 0, 0, 0, 0, 0, 0, 0, 0, 0, 0, 0, 0, 0,\n",
       "       0, 0, 0, 0, 0, 0, 0, 0, 0, 0, 0, 0, 0, 0, 0, 0, 0, 0, 0, 0, 0, 0,\n",
       "       0, 0, 0, 0, 0, 0, 0, 0, 0, 0, 0, 0, 0, 0, 0, 0, 0, 0, 0, 0, 0, 0,\n",
       "       0, 0, 0, 0, 0, 0, 0, 0, 0, 0, 0, 0, 1, 1, 1, 1, 1, 1, 1, 1, 1, 1,\n",
       "       1, 1, 1, 1, 1, 1, 1, 1, 1, 1, 1, 1, 1, 1, 1, 1, 1, 1, 1, 1, 1, 1,\n",
       "       1, 1, 1, 1, 1, 1, 1, 1, 1, 1, 1, 1, 1, 1, 1, 1, 2, 2, 2, 2, 1, 1,\n",
       "       1, 1, 1, 1, 1, 1, 1, 1, 1, 1, 1, 1, 1, 1, 1, 1, 1, 1, 1, 1, 2, 2,\n",
       "       1, 1, 1, 1, 1, 1, 1, 1, 1, 1, 1, 1, 1, 1, 1, 1, 1, 1, 1, 1, 1, 1,\n",
       "       1, 1, 2, 0, 2, 1, 2, 2, 2, 2, 0, 0, 0, 0, 2, 0, 2, 2, 2, 2, 2, 2,\n",
       "       0, 2, 2, 2, 2, 2, 2, 2, 2, 2, 0, 2, 1, 0, 0, 2, 2, 2, 0, 2, 2, 1,\n",
       "       2, 2, 2, 2, 2, 2, 2, 1, 2, 2, 0, 2, 2, 1, 2, 2, 2, 2, 2, 2, 2, 2,\n",
       "       2, 2, 2, 0, 2, 2, 2, 2, 2, 2, 0, 2, 2, 2, 1, 2, 2, 2, 2, 2, 0, 1,\n",
       "       2, 0, 2, 0, 0, 2, 2, 2, 0, 1, 2, 2, 2, 2], dtype=int64)>"
      ]
     },
     "execution_count": 21,
     "metadata": {},
     "output_type": "execute_result"
    }
   ],
   "source": [
    "predicted_categories=tf.argmax(y_pred,axis=1) #--> argmax is used for return for index value of the maxvalue\n",
    "predicted_categories"
   ]
  },
  {
   "cell_type": "code",
   "execution_count": 22,
   "metadata": {},
   "outputs": [
    {
     "data": {
      "text/plain": [
       "<tf.Tensor: shape=(300, 3), dtype=float32, numpy=\n",
       "array([[1., 0., 0.],\n",
       "       [1., 0., 0.],\n",
       "       [1., 0., 0.],\n",
       "       [1., 0., 0.],\n",
       "       [1., 0., 0.],\n",
       "       [1., 0., 0.],\n",
       "       [1., 0., 0.],\n",
       "       [1., 0., 0.],\n",
       "       [1., 0., 0.],\n",
       "       [1., 0., 0.],\n",
       "       [1., 0., 0.],\n",
       "       [1., 0., 0.],\n",
       "       [1., 0., 0.],\n",
       "       [1., 0., 0.],\n",
       "       [1., 0., 0.],\n",
       "       [1., 0., 0.],\n",
       "       [1., 0., 0.],\n",
       "       [1., 0., 0.],\n",
       "       [1., 0., 0.],\n",
       "       [1., 0., 0.],\n",
       "       [1., 0., 0.],\n",
       "       [1., 0., 0.],\n",
       "       [1., 0., 0.],\n",
       "       [1., 0., 0.],\n",
       "       [1., 0., 0.],\n",
       "       [1., 0., 0.],\n",
       "       [1., 0., 0.],\n",
       "       [1., 0., 0.],\n",
       "       [1., 0., 0.],\n",
       "       [1., 0., 0.],\n",
       "       [1., 0., 0.],\n",
       "       [1., 0., 0.],\n",
       "       [1., 0., 0.],\n",
       "       [1., 0., 0.],\n",
       "       [1., 0., 0.],\n",
       "       [1., 0., 0.],\n",
       "       [1., 0., 0.],\n",
       "       [1., 0., 0.],\n",
       "       [1., 0., 0.],\n",
       "       [1., 0., 0.],\n",
       "       [1., 0., 0.],\n",
       "       [1., 0., 0.],\n",
       "       [1., 0., 0.],\n",
       "       [1., 0., 0.],\n",
       "       [1., 0., 0.],\n",
       "       [1., 0., 0.],\n",
       "       [1., 0., 0.],\n",
       "       [1., 0., 0.],\n",
       "       [1., 0., 0.],\n",
       "       [1., 0., 0.],\n",
       "       [1., 0., 0.],\n",
       "       [1., 0., 0.],\n",
       "       [1., 0., 0.],\n",
       "       [1., 0., 0.],\n",
       "       [1., 0., 0.],\n",
       "       [1., 0., 0.],\n",
       "       [1., 0., 0.],\n",
       "       [1., 0., 0.],\n",
       "       [1., 0., 0.],\n",
       "       [1., 0., 0.],\n",
       "       [1., 0., 0.],\n",
       "       [1., 0., 0.],\n",
       "       [1., 0., 0.],\n",
       "       [1., 0., 0.],\n",
       "       [1., 0., 0.],\n",
       "       [1., 0., 0.],\n",
       "       [1., 0., 0.],\n",
       "       [1., 0., 0.],\n",
       "       [1., 0., 0.],\n",
       "       [1., 0., 0.],\n",
       "       [1., 0., 0.],\n",
       "       [1., 0., 0.],\n",
       "       [1., 0., 0.],\n",
       "       [1., 0., 0.],\n",
       "       [1., 0., 0.],\n",
       "       [1., 0., 0.],\n",
       "       [1., 0., 0.],\n",
       "       [1., 0., 0.],\n",
       "       [1., 0., 0.],\n",
       "       [1., 0., 0.],\n",
       "       [1., 0., 0.],\n",
       "       [1., 0., 0.],\n",
       "       [1., 0., 0.],\n",
       "       [1., 0., 0.],\n",
       "       [1., 0., 0.],\n",
       "       [1., 0., 0.],\n",
       "       [1., 0., 0.],\n",
       "       [1., 0., 0.],\n",
       "       [1., 0., 0.],\n",
       "       [1., 0., 0.],\n",
       "       [1., 0., 0.],\n",
       "       [1., 0., 0.],\n",
       "       [1., 0., 0.],\n",
       "       [1., 0., 0.],\n",
       "       [1., 0., 0.],\n",
       "       [1., 0., 0.],\n",
       "       [1., 0., 0.],\n",
       "       [1., 0., 0.],\n",
       "       [1., 0., 0.],\n",
       "       [1., 0., 0.],\n",
       "       [0., 1., 0.],\n",
       "       [0., 1., 0.],\n",
       "       [0., 1., 0.],\n",
       "       [0., 1., 0.],\n",
       "       [0., 1., 0.],\n",
       "       [0., 1., 0.],\n",
       "       [0., 1., 0.],\n",
       "       [0., 1., 0.],\n",
       "       [0., 1., 0.],\n",
       "       [0., 1., 0.],\n",
       "       [0., 1., 0.],\n",
       "       [0., 1., 0.],\n",
       "       [0., 1., 0.],\n",
       "       [0., 1., 0.],\n",
       "       [0., 1., 0.],\n",
       "       [0., 1., 0.],\n",
       "       [0., 1., 0.],\n",
       "       [0., 1., 0.],\n",
       "       [0., 1., 0.],\n",
       "       [0., 1., 0.],\n",
       "       [0., 1., 0.],\n",
       "       [0., 1., 0.],\n",
       "       [0., 1., 0.],\n",
       "       [0., 1., 0.],\n",
       "       [0., 1., 0.],\n",
       "       [0., 1., 0.],\n",
       "       [0., 1., 0.],\n",
       "       [0., 1., 0.],\n",
       "       [0., 1., 0.],\n",
       "       [0., 1., 0.],\n",
       "       [0., 1., 0.],\n",
       "       [0., 1., 0.],\n",
       "       [0., 1., 0.],\n",
       "       [0., 1., 0.],\n",
       "       [0., 1., 0.],\n",
       "       [0., 1., 0.],\n",
       "       [0., 1., 0.],\n",
       "       [0., 1., 0.],\n",
       "       [0., 1., 0.],\n",
       "       [0., 1., 0.],\n",
       "       [0., 1., 0.],\n",
       "       [0., 1., 0.],\n",
       "       [0., 1., 0.],\n",
       "       [0., 1., 0.],\n",
       "       [0., 1., 0.],\n",
       "       [0., 1., 0.],\n",
       "       [0., 1., 0.],\n",
       "       [0., 1., 0.],\n",
       "       [0., 1., 0.],\n",
       "       [0., 1., 0.],\n",
       "       [0., 1., 0.],\n",
       "       [0., 1., 0.],\n",
       "       [0., 1., 0.],\n",
       "       [0., 1., 0.],\n",
       "       [0., 1., 0.],\n",
       "       [0., 1., 0.],\n",
       "       [0., 1., 0.],\n",
       "       [0., 1., 0.],\n",
       "       [0., 1., 0.],\n",
       "       [0., 1., 0.],\n",
       "       [0., 1., 0.],\n",
       "       [0., 1., 0.],\n",
       "       [0., 1., 0.],\n",
       "       [0., 1., 0.],\n",
       "       [0., 1., 0.],\n",
       "       [0., 1., 0.],\n",
       "       [0., 1., 0.],\n",
       "       [0., 1., 0.],\n",
       "       [0., 1., 0.],\n",
       "       [0., 1., 0.],\n",
       "       [0., 1., 0.],\n",
       "       [0., 1., 0.],\n",
       "       [0., 1., 0.],\n",
       "       [0., 1., 0.],\n",
       "       [0., 1., 0.],\n",
       "       [0., 1., 0.],\n",
       "       [0., 1., 0.],\n",
       "       [0., 1., 0.],\n",
       "       [0., 1., 0.],\n",
       "       [0., 1., 0.],\n",
       "       [0., 1., 0.],\n",
       "       [0., 1., 0.],\n",
       "       [0., 1., 0.],\n",
       "       [0., 1., 0.],\n",
       "       [0., 1., 0.],\n",
       "       [0., 1., 0.],\n",
       "       [0., 1., 0.],\n",
       "       [0., 1., 0.],\n",
       "       [0., 1., 0.],\n",
       "       [0., 1., 0.],\n",
       "       [0., 1., 0.],\n",
       "       [0., 1., 0.],\n",
       "       [0., 1., 0.],\n",
       "       [0., 1., 0.],\n",
       "       [0., 1., 0.],\n",
       "       [0., 1., 0.],\n",
       "       [0., 1., 0.],\n",
       "       [0., 1., 0.],\n",
       "       [0., 1., 0.],\n",
       "       [0., 1., 0.],\n",
       "       [0., 0., 1.],\n",
       "       [0., 0., 1.],\n",
       "       [0., 0., 1.],\n",
       "       [0., 0., 1.],\n",
       "       [0., 0., 1.],\n",
       "       [0., 0., 1.],\n",
       "       [0., 0., 1.],\n",
       "       [0., 0., 1.],\n",
       "       [0., 0., 1.],\n",
       "       [0., 0., 1.],\n",
       "       [0., 0., 1.],\n",
       "       [0., 0., 1.],\n",
       "       [0., 0., 1.],\n",
       "       [0., 0., 1.],\n",
       "       [0., 0., 1.],\n",
       "       [0., 0., 1.],\n",
       "       [0., 0., 1.],\n",
       "       [0., 0., 1.],\n",
       "       [0., 0., 1.],\n",
       "       [0., 0., 1.],\n",
       "       [0., 0., 1.],\n",
       "       [0., 0., 1.],\n",
       "       [0., 0., 1.],\n",
       "       [0., 0., 1.],\n",
       "       [0., 0., 1.],\n",
       "       [0., 0., 1.],\n",
       "       [0., 0., 1.],\n",
       "       [0., 0., 1.],\n",
       "       [0., 0., 1.],\n",
       "       [0., 0., 1.],\n",
       "       [0., 0., 1.],\n",
       "       [0., 0., 1.],\n",
       "       [0., 0., 1.],\n",
       "       [0., 0., 1.],\n",
       "       [0., 0., 1.],\n",
       "       [0., 0., 1.],\n",
       "       [0., 0., 1.],\n",
       "       [0., 0., 1.],\n",
       "       [0., 0., 1.],\n",
       "       [0., 0., 1.],\n",
       "       [0., 0., 1.],\n",
       "       [0., 0., 1.],\n",
       "       [0., 0., 1.],\n",
       "       [0., 0., 1.],\n",
       "       [0., 0., 1.],\n",
       "       [0., 0., 1.],\n",
       "       [0., 0., 1.],\n",
       "       [0., 0., 1.],\n",
       "       [0., 0., 1.],\n",
       "       [0., 0., 1.],\n",
       "       [0., 0., 1.],\n",
       "       [0., 0., 1.],\n",
       "       [0., 0., 1.],\n",
       "       [0., 0., 1.],\n",
       "       [0., 0., 1.],\n",
       "       [0., 0., 1.],\n",
       "       [0., 0., 1.],\n",
       "       [0., 0., 1.],\n",
       "       [0., 0., 1.],\n",
       "       [0., 0., 1.],\n",
       "       [0., 0., 1.],\n",
       "       [0., 0., 1.],\n",
       "       [0., 0., 1.],\n",
       "       [0., 0., 1.],\n",
       "       [0., 0., 1.],\n",
       "       [0., 0., 1.],\n",
       "       [0., 0., 1.],\n",
       "       [0., 0., 1.],\n",
       "       [0., 0., 1.],\n",
       "       [0., 0., 1.],\n",
       "       [0., 0., 1.],\n",
       "       [0., 0., 1.],\n",
       "       [0., 0., 1.],\n",
       "       [0., 0., 1.],\n",
       "       [0., 0., 1.],\n",
       "       [0., 0., 1.],\n",
       "       [0., 0., 1.],\n",
       "       [0., 0., 1.],\n",
       "       [0., 0., 1.],\n",
       "       [0., 0., 1.],\n",
       "       [0., 0., 1.],\n",
       "       [0., 0., 1.],\n",
       "       [0., 0., 1.],\n",
       "       [0., 0., 1.],\n",
       "       [0., 0., 1.],\n",
       "       [0., 0., 1.],\n",
       "       [0., 0., 1.],\n",
       "       [0., 0., 1.],\n",
       "       [0., 0., 1.],\n",
       "       [0., 0., 1.],\n",
       "       [0., 0., 1.],\n",
       "       [0., 0., 1.],\n",
       "       [0., 0., 1.],\n",
       "       [0., 0., 1.],\n",
       "       [0., 0., 1.],\n",
       "       [0., 0., 1.],\n",
       "       [0., 0., 1.],\n",
       "       [0., 0., 1.],\n",
       "       [0., 0., 1.],\n",
       "       [0., 0., 1.]], dtype=float32)>"
      ]
     },
     "execution_count": 22,
     "metadata": {},
     "output_type": "execute_result"
    }
   ],
   "source": [
    "true_categories=tf.concat([y for x,y in test_set],axis=0) #--> list comprehension Technique\n",
    "true_categories"
   ]
  },
  {
   "cell_type": "code",
   "execution_count": 23,
   "metadata": {},
   "outputs": [
    {
     "data": {
      "text/plain": [
       "<tf.Tensor: shape=(300,), dtype=int64, numpy=\n",
       "array([0, 0, 0, 0, 0, 0, 0, 0, 0, 0, 0, 0, 0, 0, 0, 0, 0, 0, 0, 0, 0, 0,\n",
       "       0, 0, 0, 0, 0, 0, 0, 0, 0, 0, 0, 0, 0, 0, 0, 0, 0, 0, 0, 0, 0, 0,\n",
       "       0, 0, 0, 0, 0, 0, 0, 0, 0, 0, 0, 0, 0, 0, 0, 0, 0, 0, 0, 0, 0, 0,\n",
       "       0, 0, 0, 0, 0, 0, 0, 0, 0, 0, 0, 0, 0, 0, 0, 0, 0, 0, 0, 0, 0, 0,\n",
       "       0, 0, 0, 0, 0, 0, 0, 0, 0, 0, 0, 0, 1, 1, 1, 1, 1, 1, 1, 1, 1, 1,\n",
       "       1, 1, 1, 1, 1, 1, 1, 1, 1, 1, 1, 1, 1, 1, 1, 1, 1, 1, 1, 1, 1, 1,\n",
       "       1, 1, 1, 1, 1, 1, 1, 1, 1, 1, 1, 1, 1, 1, 1, 1, 1, 1, 1, 1, 1, 1,\n",
       "       1, 1, 1, 1, 1, 1, 1, 1, 1, 1, 1, 1, 1, 1, 1, 1, 1, 1, 1, 1, 1, 1,\n",
       "       1, 1, 1, 1, 1, 1, 1, 1, 1, 1, 1, 1, 1, 1, 1, 1, 1, 1, 1, 1, 1, 1,\n",
       "       1, 1, 2, 2, 2, 2, 2, 2, 2, 2, 2, 2, 2, 2, 2, 2, 2, 2, 2, 2, 2, 2,\n",
       "       2, 2, 2, 2, 2, 2, 2, 2, 2, 2, 2, 2, 2, 2, 2, 2, 2, 2, 2, 2, 2, 2,\n",
       "       2, 2, 2, 2, 2, 2, 2, 2, 2, 2, 2, 2, 2, 2, 2, 2, 2, 2, 2, 2, 2, 2,\n",
       "       2, 2, 2, 2, 2, 2, 2, 2, 2, 2, 2, 2, 2, 2, 2, 2, 2, 2, 2, 2, 2, 2,\n",
       "       2, 2, 2, 2, 2, 2, 2, 2, 2, 2, 2, 2, 2, 2], dtype=int64)>"
      ]
     },
     "execution_count": 23,
     "metadata": {},
     "output_type": "execute_result"
    }
   ],
   "source": [
    "y_true=tf.argmax(true_categories,axis=1)\n",
    "y_true"
   ]
  },
  {
   "cell_type": "code",
   "execution_count": 24,
   "metadata": {},
   "outputs": [
    {
     "name": "stdout",
     "output_type": "stream",
     "text": [
      "              precision    recall  f1-score   support\n",
      "\n",
      "Early_blight       0.84      1.00      0.91       100\n",
      "     healthy       0.92      0.94      0.93       100\n",
      " late_blight       0.92      0.73      0.82       100\n",
      "\n",
      "    accuracy                           0.89       300\n",
      "   macro avg       0.90      0.89      0.89       300\n",
      "weighted avg       0.90      0.89      0.89       300\n",
      "\n"
     ]
    },
    {
     "data": {
      "text/plain": [
       "(3, 3)"
      ]
     },
     "execution_count": 24,
     "metadata": {},
     "output_type": "execute_result"
    }
   ],
   "source": [
    "from sklearn.metrics import classification_report,confusion_matrix\n",
    "print(classification_report(y_true,predicted_categories,target_names=class_name)) #--> Creating Confusion Matrix\n",
    "\n",
    "cm=confusion_matrix(y_true,predicted_categories)\n",
    "cm.shape"
   ]
  },
  {
   "cell_type": "code",
   "execution_count": 25,
   "metadata": {},
   "outputs": [
    {
     "data": {
      "text/plain": [
       "Text(0.5, 1.0, 'Crop Disease Prediction Confusion Matrix')"
      ]
     },
     "execution_count": 25,
     "metadata": {},
     "output_type": "execute_result"
    },
    {
     "data": {
      "image/png": "[encoded data removed]",
      "text/plain": [
       "<Figure size 640x480 with 2 Axes>"
      ]
     },
     "metadata": {},
     "output_type": "display_data"
    }
   ],
   "source": [
    "#--> Confusion Matrix Visualization\n",
    "\n",
    "sns.heatmap(cm,annot=True)\n",
    "plt.xlabel(\"Predicted Class\")\n",
    "plt.ylabel(\"Actual Class\")\n",
    "plt.title(\"Crop Disease Prediction Confusion Matrix\",color='green')"
   ]
  },
  {
   "cell_type": "code",
   "execution_count": 26,
   "metadata": {},
   "outputs": [],
   "source": [
    "model.save('trained_model2.keras')"
   ]
  }
 ],
 "metadata": {
  "kernelspec": {
   "display_name": "Python 3",
   "language": "python",
   "name": "python3"
  },
  "language_info": {
   "codemirror_mode": {
    "name": "ipython",
    "version": 3
   },
   "file_extension": ".py",
   "mimetype": "text/x-python",
   "name": "python",
   "nbconvert_exporter": "python",
   "pygments_lexer": "ipython3",
   "version": "3.11.4"
  }
 },
 "nbformat": 4,
 "nbformat_minor": 2
}
